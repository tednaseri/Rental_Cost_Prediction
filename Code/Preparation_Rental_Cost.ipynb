{
 "cells": [
  {
   "cell_type": "code",
   "execution_count": 1,
   "metadata": {},
   "outputs": [
    {
     "name": "stdout",
     "output_type": "stream",
     "text": [
      "importing Jupyter notebook from utils_Rental_Cost.ipynb\n"
     ]
    }
   ],
   "source": [
    "import pandas as pd\n",
    "import numpy as np\n",
    "import matplotlib.pyplot as plt\n",
    "import seaborn as sns\n",
    "from sklearn import metrics\n",
    "import re\n",
    "import time\n",
    "from scipy import stats\n",
    "\n",
    "import warnings\n",
    "warnings.filterwarnings(\"ignore\")\n",
    "import scipy.stats\n",
    "\n",
    "#Quality of image:\n",
    "%config InlineBackend.figure_format = 'svg'\n",
    "import os\n",
    "\n",
    "pd.set_option('display.max_columns', 100)\n",
    "\n",
    "# Import my own functions from utils file:\n",
    "import import_ipynb\n",
    "from utils_Rental_Cost import *"
   ]
  },
  {
   "cell_type": "code",
   "execution_count": 2,
   "metadata": {},
   "outputs": [],
   "source": [
    "dataDirectory = os.path.join(os.path.dirname(os.getcwd()),'Rental_Cost\\\\data')\n",
    "imageDirectory = os.path.join(os.path.dirname(os.getcwd()),'Rental_Cost\\\\images\\\\Preparation')"
   ]
  },
  {
   "cell_type": "code",
   "execution_count": 3,
   "metadata": {
    "scrolled": true
   },
   "outputs": [
    {
     "name": "stdout",
     "output_type": "stream",
     "text": [
      "(10692, 13)\n"
     ]
    },
    {
     "data": {
      "text/html": [
       "<div>\n",
       "<style scoped>\n",
       "    .dataframe tbody tr th:only-of-type {\n",
       "        vertical-align: middle;\n",
       "    }\n",
       "\n",
       "    .dataframe tbody tr th {\n",
       "        vertical-align: top;\n",
       "    }\n",
       "\n",
       "    .dataframe thead th {\n",
       "        text-align: right;\n",
       "    }\n",
       "</style>\n",
       "<table border=\"1\" class=\"dataframe\">\n",
       "  <thead>\n",
       "    <tr style=\"text-align: right;\">\n",
       "      <th></th>\n",
       "      <th>city</th>\n",
       "      <th>area</th>\n",
       "      <th>rooms</th>\n",
       "      <th>bathroom</th>\n",
       "      <th>parking spaces</th>\n",
       "      <th>floor</th>\n",
       "      <th>animal</th>\n",
       "      <th>furniture</th>\n",
       "      <th>hoa (R$)</th>\n",
       "      <th>rent amount (R$)</th>\n",
       "      <th>property tax (R$)</th>\n",
       "      <th>fire insurance (R$)</th>\n",
       "      <th>total (R$)</th>\n",
       "    </tr>\n",
       "  </thead>\n",
       "  <tbody>\n",
       "    <tr>\n",
       "      <th>0</th>\n",
       "      <td>São Paulo</td>\n",
       "      <td>70</td>\n",
       "      <td>2</td>\n",
       "      <td>1</td>\n",
       "      <td>1</td>\n",
       "      <td>7</td>\n",
       "      <td>acept</td>\n",
       "      <td>furnished</td>\n",
       "      <td>2065</td>\n",
       "      <td>3300</td>\n",
       "      <td>211</td>\n",
       "      <td>42</td>\n",
       "      <td>5618</td>\n",
       "    </tr>\n",
       "    <tr>\n",
       "      <th>1</th>\n",
       "      <td>São Paulo</td>\n",
       "      <td>320</td>\n",
       "      <td>4</td>\n",
       "      <td>4</td>\n",
       "      <td>0</td>\n",
       "      <td>20</td>\n",
       "      <td>acept</td>\n",
       "      <td>not furnished</td>\n",
       "      <td>1200</td>\n",
       "      <td>4960</td>\n",
       "      <td>1750</td>\n",
       "      <td>63</td>\n",
       "      <td>7973</td>\n",
       "    </tr>\n",
       "  </tbody>\n",
       "</table>\n",
       "</div>"
      ],
      "text/plain": [
       "        city  area  rooms  bathroom  parking spaces floor animal  \\\n",
       "0  São Paulo    70      2         1               1     7  acept   \n",
       "1  São Paulo   320      4         4               0    20  acept   \n",
       "\n",
       "       furniture  hoa (R$)  rent amount (R$)  property tax (R$)  \\\n",
       "0      furnished      2065              3300                211   \n",
       "1  not furnished      1200              4960               1750   \n",
       "\n",
       "   fire insurance (R$)  total (R$)  \n",
       "0                   42        5618  \n",
       "1                   63        7973  "
      ]
     },
     "execution_count": 3,
     "metadata": {},
     "output_type": "execute_result"
    }
   ],
   "source": [
    "df = pd.read_csv(dataDirectory + \"\\houses_to_rent.csv\")\n",
    "print(df.shape)\n",
    "df.head(2)"
   ]
  },
  {
   "cell_type": "markdown",
   "metadata": {},
   "source": [
    "### Features of the dataset: \n",
    "**Unnamed: 0** Incremental id, for prediction puroses we do not need it.\n",
    "<br>**city:** City where the home is located\n",
    "<br>**area:** The area of the home,\n",
    "<br>**rooms:** The count of rooms of the home,\n",
    "<br>**bathroom:** The count of bathrooms of the home,\n",
    "<br>**parking spaces:** The count of parking spaces belonged to the home,\n",
    "<br>**floor:** The floor of the building,\n",
    "<br>**animal:** Is it animal friendly?\n",
    "<br>**furniture:** Is it furnished or not?\n",
    "<br>**hoa** Homeowners association tax,\n",
    "<br>**property tax:** Monthly property tax,\n",
    "<br>**property tax:** Homeowners association tax,\n",
    "<br>**rent amount:** Monthly rental price,\n",
    "<br>**fire insurance:** Monthly fire insurance payment,\n",
    "<br>**total** Total value of monthly payment"
   ]
  },
  {
   "cell_type": "markdown",
   "metadata": {},
   "source": [
    "**1) Renaming columns**"
   ]
  },
  {
   "cell_type": "code",
   "execution_count": 4,
   "metadata": {
    "scrolled": true
   },
   "outputs": [
    {
     "data": {
      "text/html": [
       "<div>\n",
       "<style scoped>\n",
       "    .dataframe tbody tr th:only-of-type {\n",
       "        vertical-align: middle;\n",
       "    }\n",
       "\n",
       "    .dataframe tbody tr th {\n",
       "        vertical-align: top;\n",
       "    }\n",
       "\n",
       "    .dataframe thead th {\n",
       "        text-align: right;\n",
       "    }\n",
       "</style>\n",
       "<table border=\"1\" class=\"dataframe\">\n",
       "  <thead>\n",
       "    <tr style=\"text-align: right;\">\n",
       "      <th></th>\n",
       "      <th>city</th>\n",
       "      <th>area</th>\n",
       "      <th>rooms</th>\n",
       "      <th>bathroom</th>\n",
       "      <th>parking</th>\n",
       "      <th>floor</th>\n",
       "      <th>petFriendly</th>\n",
       "      <th>furnished</th>\n",
       "      <th>hoa</th>\n",
       "      <th>rent</th>\n",
       "      <th>tax</th>\n",
       "      <th>fireInsurance</th>\n",
       "      <th>total</th>\n",
       "    </tr>\n",
       "  </thead>\n",
       "  <tbody>\n",
       "    <tr>\n",
       "      <th>0</th>\n",
       "      <td>São Paulo</td>\n",
       "      <td>70</td>\n",
       "      <td>2</td>\n",
       "      <td>1</td>\n",
       "      <td>1</td>\n",
       "      <td>7</td>\n",
       "      <td>acept</td>\n",
       "      <td>furnished</td>\n",
       "      <td>2065</td>\n",
       "      <td>3300</td>\n",
       "      <td>211</td>\n",
       "      <td>42</td>\n",
       "      <td>5618</td>\n",
       "    </tr>\n",
       "    <tr>\n",
       "      <th>1</th>\n",
       "      <td>São Paulo</td>\n",
       "      <td>320</td>\n",
       "      <td>4</td>\n",
       "      <td>4</td>\n",
       "      <td>0</td>\n",
       "      <td>20</td>\n",
       "      <td>acept</td>\n",
       "      <td>not furnished</td>\n",
       "      <td>1200</td>\n",
       "      <td>4960</td>\n",
       "      <td>1750</td>\n",
       "      <td>63</td>\n",
       "      <td>7973</td>\n",
       "    </tr>\n",
       "  </tbody>\n",
       "</table>\n",
       "</div>"
      ],
      "text/plain": [
       "        city  area  rooms  bathroom  parking floor petFriendly      furnished  \\\n",
       "0  São Paulo    70      2         1        1     7       acept      furnished   \n",
       "1  São Paulo   320      4         4        0    20       acept  not furnished   \n",
       "\n",
       "    hoa  rent   tax  fireInsurance  total  \n",
       "0  2065  3300   211             42   5618  \n",
       "1  1200  4960  1750             63   7973  "
      ]
     },
     "execution_count": 4,
     "metadata": {},
     "output_type": "execute_result"
    }
   ],
   "source": [
    "df.rename(columns={'parking spaces': 'parking', \n",
    "                   'animal': 'petFriendly',\n",
    "                   'furniture': 'furnished',\n",
    "                   'rent amount (R$)': 'rent',\n",
    "                   'property tax (R$)': 'tax',\n",
    "                   'fire insurance (R$)': 'fireInsurance',\n",
    "                   'hoa (R$)': 'hoa',\n",
    "                   'total (R$)': 'total'\n",
    "                  },inplace= True)\n",
    "\n",
    "df.head(2)"
   ]
  },
  {
   "cell_type": "markdown",
   "metadata": {},
   "source": [
    "**2) Checking duplicates**"
   ]
  },
  {
   "cell_type": "markdown",
   "metadata": {},
   "source": [
    "### Data Preparation:\n",
    "- Checking duplicates,\n",
    "- Checking missing values,\n",
    "- Renaming columns,\n",
    "- Deleting \"Unnamed:0\" column,\n",
    "- Modifying city column\n",
    "- Deleting **\"R$ and comma\"** in 5 financial columns: (hoa, rent amount, property tax, fire insurance, total),\n",
    "- Converting string columns into numerical columns,\n",
    "- Check if there is some non-numerical input within numerical columns,\n",
    "- Looking for miss values,\n",
    "- Looking for outliers,\n",
    "- Checking multi colinearity"
   ]
  },
  {
   "cell_type": "code",
   "execution_count": 5,
   "metadata": {},
   "outputs": [
    {
     "data": {
      "text/plain": [
       "(358,)"
      ]
     },
     "execution_count": 5,
     "metadata": {},
     "output_type": "execute_result"
    }
   ],
   "source": [
    "duplicated = df.duplicated()\n",
    "duplicated = duplicated[duplicated.values==True]\n",
    "duplicated.shape"
   ]
  },
  {
   "cell_type": "markdown",
   "metadata": {},
   "source": [
    "### Insight: \n",
    "- There are 358 duplicated rows. \n",
    "- However, according to the fact that the data set includes rental homes, it is possible that there are similar records. \n",
    "- For example, similar unit in a tall bauilding.\n",
    "- So, we can keep them."
   ]
  },
  {
   "cell_type": "markdown",
   "metadata": {},
   "source": [
    "**3) Checking missing values**"
   ]
  },
  {
   "cell_type": "code",
   "execution_count": 6,
   "metadata": {},
   "outputs": [
    {
     "data": {
      "text/plain": [
       "city             0\n",
       "area             0\n",
       "rooms            0\n",
       "bathroom         0\n",
       "parking          0\n",
       "floor            0\n",
       "petFriendly      0\n",
       "furnished        0\n",
       "hoa              0\n",
       "rent             0\n",
       "tax              0\n",
       "fireInsurance    0\n",
       "total            0\n",
       "dtype: int64"
      ]
     },
     "execution_count": 6,
     "metadata": {},
     "output_type": "execute_result"
    }
   ],
   "source": [
    "df.isnull().sum()"
   ]
  },
  {
   "cell_type": "code",
   "execution_count": 7,
   "metadata": {
    "scrolled": false
   },
   "outputs": [
    {
     "data": {
      "text/html": [
       "<div>\n",
       "<style scoped>\n",
       "    .dataframe tbody tr th:only-of-type {\n",
       "        vertical-align: middle;\n",
       "    }\n",
       "\n",
       "    .dataframe tbody tr th {\n",
       "        vertical-align: top;\n",
       "    }\n",
       "\n",
       "    .dataframe thead th {\n",
       "        text-align: right;\n",
       "    }\n",
       "</style>\n",
       "<table border=\"1\" class=\"dataframe\">\n",
       "  <thead>\n",
       "    <tr style=\"text-align: right;\">\n",
       "      <th></th>\n",
       "      <th>role</th>\n",
       "      <th>type</th>\n",
       "      <th>dtype</th>\n",
       "      <th>uniqueCnt</th>\n",
       "    </tr>\n",
       "    <tr>\n",
       "      <th>varname</th>\n",
       "      <th></th>\n",
       "      <th></th>\n",
       "      <th></th>\n",
       "      <th></th>\n",
       "    </tr>\n",
       "  </thead>\n",
       "  <tbody>\n",
       "    <tr>\n",
       "      <th>city</th>\n",
       "      <td>input</td>\n",
       "      <td>categorical</td>\n",
       "      <td>object</td>\n",
       "      <td>5</td>\n",
       "    </tr>\n",
       "    <tr>\n",
       "      <th>area</th>\n",
       "      <td>input</td>\n",
       "      <td>ordinal</td>\n",
       "      <td>int64</td>\n",
       "      <td>517</td>\n",
       "    </tr>\n",
       "    <tr>\n",
       "      <th>rooms</th>\n",
       "      <td>input</td>\n",
       "      <td>ordinal</td>\n",
       "      <td>int64</td>\n",
       "      <td>11</td>\n",
       "    </tr>\n",
       "    <tr>\n",
       "      <th>bathroom</th>\n",
       "      <td>input</td>\n",
       "      <td>ordinal</td>\n",
       "      <td>int64</td>\n",
       "      <td>10</td>\n",
       "    </tr>\n",
       "    <tr>\n",
       "      <th>parking</th>\n",
       "      <td>input</td>\n",
       "      <td>ordinal</td>\n",
       "      <td>int64</td>\n",
       "      <td>11</td>\n",
       "    </tr>\n",
       "    <tr>\n",
       "      <th>floor</th>\n",
       "      <td>input</td>\n",
       "      <td>categorical</td>\n",
       "      <td>object</td>\n",
       "      <td>35</td>\n",
       "    </tr>\n",
       "    <tr>\n",
       "      <th>petFriendly</th>\n",
       "      <td>input</td>\n",
       "      <td>categorical</td>\n",
       "      <td>object</td>\n",
       "      <td>2</td>\n",
       "    </tr>\n",
       "    <tr>\n",
       "      <th>furnished</th>\n",
       "      <td>input</td>\n",
       "      <td>categorical</td>\n",
       "      <td>object</td>\n",
       "      <td>2</td>\n",
       "    </tr>\n",
       "    <tr>\n",
       "      <th>hoa</th>\n",
       "      <td>input</td>\n",
       "      <td>ordinal</td>\n",
       "      <td>int64</td>\n",
       "      <td>1679</td>\n",
       "    </tr>\n",
       "    <tr>\n",
       "      <th>rent</th>\n",
       "      <td>input</td>\n",
       "      <td>ordinal</td>\n",
       "      <td>int64</td>\n",
       "      <td>1195</td>\n",
       "    </tr>\n",
       "    <tr>\n",
       "      <th>tax</th>\n",
       "      <td>input</td>\n",
       "      <td>ordinal</td>\n",
       "      <td>int64</td>\n",
       "      <td>1243</td>\n",
       "    </tr>\n",
       "    <tr>\n",
       "      <th>fireInsurance</th>\n",
       "      <td>input</td>\n",
       "      <td>ordinal</td>\n",
       "      <td>int64</td>\n",
       "      <td>216</td>\n",
       "    </tr>\n",
       "    <tr>\n",
       "      <th>total</th>\n",
       "      <td>input</td>\n",
       "      <td>ordinal</td>\n",
       "      <td>int64</td>\n",
       "      <td>5751</td>\n",
       "    </tr>\n",
       "  </tbody>\n",
       "</table>\n",
       "</div>"
      ],
      "text/plain": [
       "                role         type   dtype  uniqueCnt\n",
       "varname                                             \n",
       "city           input  categorical  object          5\n",
       "area           input      ordinal   int64        517\n",
       "rooms          input      ordinal   int64         11\n",
       "bathroom       input      ordinal   int64         10\n",
       "parking        input      ordinal   int64         11\n",
       "floor          input  categorical  object         35\n",
       "petFriendly    input  categorical  object          2\n",
       "furnished      input  categorical  object          2\n",
       "hoa            input      ordinal   int64       1679\n",
       "rent           input      ordinal   int64       1195\n",
       "tax            input      ordinal   int64       1243\n",
       "fireInsurance  input      ordinal   int64        216\n",
       "total          input      ordinal   int64       5751"
      ]
     },
     "execution_count": 7,
     "metadata": {},
     "output_type": "execute_result"
    }
   ],
   "source": [
    "metadata = make_metadata(df)\n",
    "\n",
    "catFeatures, catCnt, cat_df = make_typedf(df, metadata, 'categorical')\n",
    "ordFeatures, ordCnt, ord_df = make_typedf(df, metadata, 'ordinal')\n",
    "numFeatures, numCnt, num_df = make_typedf(df, metadata, 'numeric')\n",
    "binFeatures, binCnt, bin_df = make_typedf(df, metadata, 'binary')\n",
    "\n",
    "metadata"
   ]
  },
  {
   "cell_type": "markdown",
   "metadata": {},
   "source": [
    "**5) Preparation of numerical columns:**\n",
    "- Converting string data into numeric,\n",
    "- Check if there is some non-numerical data within numerical columns,"
   ]
  },
  {
   "cell_type": "code",
   "execution_count": 8,
   "metadata": {
    "scrolled": true
   },
   "outputs": [
    {
     "name": "stdout",
     "output_type": "stream",
     "text": [
      "Dataframe is verified!\n",
      "All columns are pure numerical.\n"
     ]
    },
    {
     "data": {
      "text/plain": [
       "[]"
      ]
     },
     "execution_count": 8,
     "metadata": {},
     "output_type": "execute_result"
    }
   ],
   "source": [
    "check_numericalStatus(df, ordFeatures)"
   ]
  },
  {
   "cell_type": "code",
   "execution_count": 9,
   "metadata": {
    "scrolled": false
   },
   "outputs": [
    {
     "data": {
      "text/plain": [
       "['city', 'floor', 'petFriendly', 'furnished']"
      ]
     },
     "execution_count": 9,
     "metadata": {},
     "output_type": "execute_result"
    }
   ],
   "source": [
    "catFeatures"
   ]
  },
  {
   "cell_type": "markdown",
   "metadata": {},
   "source": [
    "**5) Modifying of Floor Feature:**\n",
    "- It is considered categorical.\n",
    "- We have to modify it."
   ]
  },
  {
   "cell_type": "code",
   "execution_count": 10,
   "metadata": {},
   "outputs": [
    {
     "name": "stdout",
     "output_type": "stream",
     "text": [
      "rexxx\n",
      "23.02% of the \"floor\" column is not numerical.\n",
      "The distribution is as follow:\n",
      "-    2461\n",
      "Name: floor, dtype: int64\n",
      "********************************************************\n"
     ]
    }
   ],
   "source": [
    "non_num_index = find_nonNumerical_percent(df, 'floor');"
   ]
  },
  {
   "cell_type": "code",
   "execution_count": 11,
   "metadata": {
    "scrolled": false
   },
   "outputs": [
    {
     "data": {
      "text/html": [
       "<div>\n",
       "<style scoped>\n",
       "    .dataframe tbody tr th:only-of-type {\n",
       "        vertical-align: middle;\n",
       "    }\n",
       "\n",
       "    .dataframe tbody tr th {\n",
       "        vertical-align: top;\n",
       "    }\n",
       "\n",
       "    .dataframe thead th {\n",
       "        text-align: right;\n",
       "    }\n",
       "</style>\n",
       "<table border=\"1\" class=\"dataframe\">\n",
       "  <thead>\n",
       "    <tr style=\"text-align: right;\">\n",
       "      <th></th>\n",
       "      <th>city</th>\n",
       "      <th>area</th>\n",
       "      <th>rooms</th>\n",
       "      <th>bathroom</th>\n",
       "      <th>parking</th>\n",
       "      <th>floor</th>\n",
       "      <th>petFriendly</th>\n",
       "      <th>furnished</th>\n",
       "      <th>hoa</th>\n",
       "      <th>rent</th>\n",
       "      <th>tax</th>\n",
       "      <th>fireInsurance</th>\n",
       "      <th>total</th>\n",
       "    </tr>\n",
       "  </thead>\n",
       "  <tbody>\n",
       "    <tr>\n",
       "      <th>5</th>\n",
       "      <td>São Paulo</td>\n",
       "      <td>376</td>\n",
       "      <td>3</td>\n",
       "      <td>3</td>\n",
       "      <td>7</td>\n",
       "      <td>-</td>\n",
       "      <td>acept</td>\n",
       "      <td>not furnished</td>\n",
       "      <td>0</td>\n",
       "      <td>8000</td>\n",
       "      <td>834</td>\n",
       "      <td>121</td>\n",
       "      <td>8955</td>\n",
       "    </tr>\n",
       "    <tr>\n",
       "      <th>15</th>\n",
       "      <td>Campinas</td>\n",
       "      <td>330</td>\n",
       "      <td>4</td>\n",
       "      <td>6</td>\n",
       "      <td>6</td>\n",
       "      <td>-</td>\n",
       "      <td>acept</td>\n",
       "      <td>furnished</td>\n",
       "      <td>680</td>\n",
       "      <td>8000</td>\n",
       "      <td>328</td>\n",
       "      <td>121</td>\n",
       "      <td>9129</td>\n",
       "    </tr>\n",
       "    <tr>\n",
       "      <th>19</th>\n",
       "      <td>São Paulo</td>\n",
       "      <td>600</td>\n",
       "      <td>4</td>\n",
       "      <td>5</td>\n",
       "      <td>6</td>\n",
       "      <td>-</td>\n",
       "      <td>acept</td>\n",
       "      <td>not furnished</td>\n",
       "      <td>0</td>\n",
       "      <td>12000</td>\n",
       "      <td>9500</td>\n",
       "      <td>181</td>\n",
       "      <td>21680</td>\n",
       "    </tr>\n",
       "  </tbody>\n",
       "</table>\n",
       "</div>"
      ],
      "text/plain": [
       "         city  area  rooms  bathroom  parking floor petFriendly  \\\n",
       "5   São Paulo   376      3         3        7     -       acept   \n",
       "15   Campinas   330      4         6        6     -       acept   \n",
       "19  São Paulo   600      4         5        6     -       acept   \n",
       "\n",
       "        furnished  hoa   rent   tax  fireInsurance  total  \n",
       "5   not furnished    0   8000   834            121   8955  \n",
       "15      furnished  680   8000   328            121   9129  \n",
       "19  not furnished    0  12000  9500            181  21680  "
      ]
     },
     "execution_count": 11,
     "metadata": {},
     "output_type": "execute_result"
    }
   ],
   "source": [
    "df.loc[non_num_index].head(3)"
   ]
  },
  {
   "cell_type": "code",
   "execution_count": 12,
   "metadata": {},
   "outputs": [
    {
     "data": {
      "text/plain": [
       "['São Paulo', 'Porto Alegre', 'Rio de Janeiro', 'Campinas', 'Belo Horizonte']"
      ]
     },
     "execution_count": 12,
     "metadata": {},
     "output_type": "execute_result"
    }
   ],
   "source": [
    "restIndex = ~df.index.isin(non_num_index)\n",
    "dfTest = df.loc[restIndex]\n",
    "cityLst = dfTest['city'].unique().tolist()\n",
    "cityLst"
   ]
  },
  {
   "cell_type": "markdown",
   "metadata": {},
   "source": [
    "**Imputing floor feature based on the most frequent data:**"
   ]
  },
  {
   "cell_type": "code",
   "execution_count": 13,
   "metadata": {
    "scrolled": true
   },
   "outputs": [
    {
     "data": {
      "text/plain": [
       "city\n",
       "Belo Horizonte    1\n",
       "Campinas          1\n",
       "Porto Alegre      2\n",
       "Rio de Janeiro    2\n",
       "São Paulo         1\n",
       "Name: floor, dtype: object"
      ]
     },
     "execution_count": 13,
     "metadata": {},
     "output_type": "execute_result"
    }
   ],
   "source": [
    "cityMode = dfTest.groupby('city')['floor'].agg(pd.Series.mode)\n",
    "cityMode"
   ]
  },
  {
   "cell_type": "markdown",
   "metadata": {},
   "source": [
    "### Before imputing:"
   ]
  },
  {
   "cell_type": "code",
   "execution_count": 14,
   "metadata": {
    "scrolled": true
   },
   "outputs": [
    {
     "data": {
      "text/plain": [
       "-    1614\n",
       "1     542\n",
       "2     350\n",
       "3     332\n",
       "5     307\n",
       "Name: floor, dtype: int64"
      ]
     },
     "execution_count": 14,
     "metadata": {},
     "output_type": "execute_result"
    }
   ],
   "source": [
    "df.loc[df['city']=='São Paulo', 'floor'].value_counts().head()"
   ]
  },
  {
   "cell_type": "markdown",
   "metadata": {},
   "source": [
    "### After imputing:"
   ]
  },
  {
   "cell_type": "code",
   "execution_count": 15,
   "metadata": {
    "scrolled": false
   },
   "outputs": [
    {
     "data": {
      "text/plain": [
       "1    2156\n",
       "2     350\n",
       "3     332\n",
       "5     307\n",
       "6     299\n",
       "Name: floor, dtype: int64"
      ]
     },
     "execution_count": 15,
     "metadata": {},
     "output_type": "execute_result"
    }
   ],
   "source": [
    "for cityName in cityLst:\n",
    "    df.loc[(df['city']==cityName) & (df['floor']=='-'), 'floor'] = str(cityMode[cityName])\n",
    "    \n",
    "df.loc[df['city']=='São Paulo', 'floor'].value_counts().head()"
   ]
  },
  {
   "cell_type": "code",
   "execution_count": 16,
   "metadata": {},
   "outputs": [],
   "source": [
    "df['floor'] = df['floor'].astype(int)"
   ]
  },
  {
   "cell_type": "markdown",
   "metadata": {},
   "source": [
    "**Updating MetaData:**"
   ]
  },
  {
   "cell_type": "code",
   "execution_count": 17,
   "metadata": {},
   "outputs": [
    {
     "data": {
      "text/plain": [
       "['city', 'petFriendly', 'furnished']"
      ]
     },
     "execution_count": 17,
     "metadata": {},
     "output_type": "execute_result"
    }
   ],
   "source": [
    "metadata = make_metadata(df)\n",
    "\n",
    "catFeatures, catCnt, cat_df = make_typedf(df, metadata, 'categorical')\n",
    "ordFeatures, ordCnt, ord_df = make_typedf(df, metadata, 'ordinal')\n",
    "numFeatures, numCnt, num_df = make_typedf(df, metadata, 'numeric')\n",
    "binFeatures, binCnt, bin_df = make_typedf(df, metadata, 'binary')\n",
    "\n",
    "# Let us take a look at cat features:\n",
    "catFeatures"
   ]
  },
  {
   "cell_type": "markdown",
   "metadata": {},
   "source": [
    "**Exporting dataset for future using:**"
   ]
  },
  {
   "cell_type": "code",
   "execution_count": 18,
   "metadata": {},
   "outputs": [],
   "source": [
    "df.to_csv(dataDirectory + \"\\\\rental_houses_Tohid.csv\", index=False)"
   ]
  }
 ],
 "metadata": {
  "kernelspec": {
   "display_name": "Python 3",
   "language": "python",
   "name": "python3"
  },
  "language_info": {
   "codemirror_mode": {
    "name": "ipython",
    "version": 3
   },
   "file_extension": ".py",
   "mimetype": "text/x-python",
   "name": "python",
   "nbconvert_exporter": "python",
   "pygments_lexer": "ipython3",
   "version": "3.7.7"
  }
 },
 "nbformat": 4,
 "nbformat_minor": 4
}
