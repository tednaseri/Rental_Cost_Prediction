{
 "cells": [
  {
   "cell_type": "code",
   "execution_count": 1,
   "metadata": {},
   "outputs": [],
   "source": [
    "import pandas as pd\n",
    "import numpy as np\n",
    "import matplotlib.pyplot as plt\n",
    "import seaborn as sns\n",
    "from sklearn import metrics\n",
    "import re\n",
    "import time\n",
    "from scipy import stats\n",
    "\n",
    "import warnings\n",
    "warnings.filterwarnings(\"ignore\")\n",
    "import scipy.stats\n",
    "\n",
    "#Quality of image:\n",
    "%config InlineBackend.figure_format = 'svg'\n",
    "import os\n",
    "\n",
    "pd.set_option('display.max_columns', 100)\n",
    "\n",
    "# Import my own functions from utils file:\n",
    "import import_ipynb\n",
    "#from utils_home_prices import *"
   ]
  },
  {
   "cell_type": "code",
   "execution_count": 2,
   "metadata": {},
   "outputs": [],
   "source": [
    "dataDirectory = os.path.join(os.path.dirname(os.getcwd()),'Rental_Cost\\\\data')\n",
    "imageDirectory = os.path.join(os.path.dirname(os.getcwd()),'Rental_Cost\\\\images\\\\Preparation')"
   ]
  },
  {
   "cell_type": "code",
   "execution_count": 3,
   "metadata": {
    "scrolled": true
   },
   "outputs": [
    {
     "name": "stdout",
     "output_type": "stream",
     "text": [
      "(10692, 13)\n"
     ]
    },
    {
     "data": {
      "text/html": [
       "<div>\n",
       "<style scoped>\n",
       "    .dataframe tbody tr th:only-of-type {\n",
       "        vertical-align: middle;\n",
       "    }\n",
       "\n",
       "    .dataframe tbody tr th {\n",
       "        vertical-align: top;\n",
       "    }\n",
       "\n",
       "    .dataframe thead th {\n",
       "        text-align: right;\n",
       "    }\n",
       "</style>\n",
       "<table border=\"1\" class=\"dataframe\">\n",
       "  <thead>\n",
       "    <tr style=\"text-align: right;\">\n",
       "      <th></th>\n",
       "      <th>city</th>\n",
       "      <th>area</th>\n",
       "      <th>rooms</th>\n",
       "      <th>bathroom</th>\n",
       "      <th>parking spaces</th>\n",
       "      <th>floor</th>\n",
       "      <th>animal</th>\n",
       "      <th>furniture</th>\n",
       "      <th>hoa (R$)</th>\n",
       "      <th>rent amount (R$)</th>\n",
       "      <th>property tax (R$)</th>\n",
       "      <th>fire insurance (R$)</th>\n",
       "      <th>total (R$)</th>\n",
       "    </tr>\n",
       "  </thead>\n",
       "  <tbody>\n",
       "    <tr>\n",
       "      <th>0</th>\n",
       "      <td>São Paulo</td>\n",
       "      <td>70</td>\n",
       "      <td>2</td>\n",
       "      <td>1</td>\n",
       "      <td>1</td>\n",
       "      <td>7</td>\n",
       "      <td>acept</td>\n",
       "      <td>furnished</td>\n",
       "      <td>2065</td>\n",
       "      <td>3300</td>\n",
       "      <td>211</td>\n",
       "      <td>42</td>\n",
       "      <td>5618</td>\n",
       "    </tr>\n",
       "    <tr>\n",
       "      <th>1</th>\n",
       "      <td>São Paulo</td>\n",
       "      <td>320</td>\n",
       "      <td>4</td>\n",
       "      <td>4</td>\n",
       "      <td>0</td>\n",
       "      <td>20</td>\n",
       "      <td>acept</td>\n",
       "      <td>not furnished</td>\n",
       "      <td>1200</td>\n",
       "      <td>4960</td>\n",
       "      <td>1750</td>\n",
       "      <td>63</td>\n",
       "      <td>7973</td>\n",
       "    </tr>\n",
       "  </tbody>\n",
       "</table>\n",
       "</div>"
      ],
      "text/plain": [
       "        city  area  rooms  bathroom  parking spaces floor animal  \\\n",
       "0  São Paulo    70      2         1               1     7  acept   \n",
       "1  São Paulo   320      4         4               0    20  acept   \n",
       "\n",
       "       furniture  hoa (R$)  rent amount (R$)  property tax (R$)  \\\n",
       "0      furnished      2065              3300                211   \n",
       "1  not furnished      1200              4960               1750   \n",
       "\n",
       "   fire insurance (R$)  total (R$)  \n",
       "0                   42        5618  \n",
       "1                   63        7973  "
      ]
     },
     "execution_count": 3,
     "metadata": {},
     "output_type": "execute_result"
    }
   ],
   "source": [
    "df = pd.read_csv(dataDirectory + \"\\houses_to_rent.csv\")\n",
    "print(df.shape)\n",
    "df.head(2)"
   ]
  },
  {
   "cell_type": "markdown",
   "metadata": {},
   "source": [
    "### Features of the dataset: \n",
    "**Unnamed: 0** Incremental id, for prediction puroses we do not need it.\n",
    "<br>**city:** City where the home is located\n",
    "<br>**area:** The area of the home,\n",
    "<br>**rooms:** The count of rooms of the home,\n",
    "<br>**bathroom:** The count of bathrooms of the home,\n",
    "<br>**parking spaces:** The count of parking spaces belonged to the home,\n",
    "<br>**floor:** The floor of the building,\n",
    "<br>**animal:** Is it animal friendly?\n",
    "<br>**furniture:** Is it furnished or not?\n",
    "<br>**hoa** Homeowners association tax,\n",
    "<br>**property tax:** Monthly property tax,\n",
    "<br>**property tax:** Homeowners association tax,\n",
    "<br>**rent amount:** Monthly rental price,\n",
    "<br>**fire insurance:** Monthly fire insurance payment,\n",
    "<br>**total** Total value of monthly payment"
   ]
  },
  {
   "cell_type": "markdown",
   "metadata": {},
   "source": [
    "**1) Renaming columns**"
   ]
  },
  {
   "cell_type": "code",
   "execution_count": 4,
   "metadata": {
    "scrolled": true
   },
   "outputs": [
    {
     "data": {
      "text/html": [
       "<div>\n",
       "<style scoped>\n",
       "    .dataframe tbody tr th:only-of-type {\n",
       "        vertical-align: middle;\n",
       "    }\n",
       "\n",
       "    .dataframe tbody tr th {\n",
       "        vertical-align: top;\n",
       "    }\n",
       "\n",
       "    .dataframe thead th {\n",
       "        text-align: right;\n",
       "    }\n",
       "</style>\n",
       "<table border=\"1\" class=\"dataframe\">\n",
       "  <thead>\n",
       "    <tr style=\"text-align: right;\">\n",
       "      <th></th>\n",
       "      <th>city</th>\n",
       "      <th>area</th>\n",
       "      <th>rooms</th>\n",
       "      <th>bathroom</th>\n",
       "      <th>parking</th>\n",
       "      <th>floor</th>\n",
       "      <th>petFriendly</th>\n",
       "      <th>furnished</th>\n",
       "      <th>hoa</th>\n",
       "      <th>rent</th>\n",
       "      <th>tax</th>\n",
       "      <th>fireInsurance</th>\n",
       "      <th>total</th>\n",
       "    </tr>\n",
       "  </thead>\n",
       "  <tbody>\n",
       "    <tr>\n",
       "      <th>0</th>\n",
       "      <td>São Paulo</td>\n",
       "      <td>70</td>\n",
       "      <td>2</td>\n",
       "      <td>1</td>\n",
       "      <td>1</td>\n",
       "      <td>7</td>\n",
       "      <td>acept</td>\n",
       "      <td>furnished</td>\n",
       "      <td>2065</td>\n",
       "      <td>3300</td>\n",
       "      <td>211</td>\n",
       "      <td>42</td>\n",
       "      <td>5618</td>\n",
       "    </tr>\n",
       "    <tr>\n",
       "      <th>1</th>\n",
       "      <td>São Paulo</td>\n",
       "      <td>320</td>\n",
       "      <td>4</td>\n",
       "      <td>4</td>\n",
       "      <td>0</td>\n",
       "      <td>20</td>\n",
       "      <td>acept</td>\n",
       "      <td>not furnished</td>\n",
       "      <td>1200</td>\n",
       "      <td>4960</td>\n",
       "      <td>1750</td>\n",
       "      <td>63</td>\n",
       "      <td>7973</td>\n",
       "    </tr>\n",
       "  </tbody>\n",
       "</table>\n",
       "</div>"
      ],
      "text/plain": [
       "        city  area  rooms  bathroom  parking floor petFriendly      furnished  \\\n",
       "0  São Paulo    70      2         1        1     7       acept      furnished   \n",
       "1  São Paulo   320      4         4        0    20       acept  not furnished   \n",
       "\n",
       "    hoa  rent   tax  fireInsurance  total  \n",
       "0  2065  3300   211             42   5618  \n",
       "1  1200  4960  1750             63   7973  "
      ]
     },
     "execution_count": 4,
     "metadata": {},
     "output_type": "execute_result"
    }
   ],
   "source": [
    "df.rename(columns={'parking spaces': 'parking', \n",
    "                   'animal': 'petFriendly',\n",
    "                   'furniture': 'furnished',\n",
    "                   'rent amount (R$)': 'rent',\n",
    "                   'property tax (R$)': 'tax',\n",
    "                   'fire insurance (R$)': 'fireInsurance',\n",
    "                   'hoa (R$)': 'hoa',\n",
    "                   'total (R$)': 'total'\n",
    "                  },inplace= True)\n",
    "\n",
    "df.head(2)"
   ]
  },
  {
   "cell_type": "markdown",
   "metadata": {},
   "source": [
    "**2) Checking duplicates**"
   ]
  },
  {
   "cell_type": "markdown",
   "metadata": {},
   "source": [
    "### Data Preparation:\n",
    "- Checking duplicates,\n",
    "- Checking missing values,\n",
    "- Renaming columns,\n",
    "- Deleting \"Unnamed:0\" column,\n",
    "- Modifying city column\n",
    "- Deleting **\"R$ and comma\"** in 5 financial columns: (hoa, rent amount, property tax, fire insurance, total),\n",
    "- Converting string columns into numerical columns,\n",
    "- Check if there is some non-numerical input within numerical columns,\n",
    "- Looking for miss values,\n",
    "- Looking for outliers,\n",
    "- Checking multi colinearity"
   ]
  },
  {
   "cell_type": "code",
   "execution_count": 5,
   "metadata": {},
   "outputs": [
    {
     "data": {
      "text/plain": [
       "(358,)"
      ]
     },
     "execution_count": 5,
     "metadata": {},
     "output_type": "execute_result"
    }
   ],
   "source": [
    "duplicated = df.duplicated()\n",
    "duplicated = duplicated[duplicated.values==True]\n",
    "duplicated.shape"
   ]
  },
  {
   "cell_type": "markdown",
   "metadata": {},
   "source": [
    "### Insight: \n",
    "- There are 358 duplicated rows. \n",
    "- However, according to the fact that the data set includes rental homes, it is possible that there are similar records. \n",
    "- For example, similar unit in a tall bauilding.\n",
    "- So, we can keep them."
   ]
  },
  {
   "cell_type": "markdown",
   "metadata": {},
   "source": [
    "**3) Checking missing values**"
   ]
  },
  {
   "cell_type": "code",
   "execution_count": 6,
   "metadata": {},
   "outputs": [
    {
     "data": {
      "text/plain": [
       "city             0\n",
       "area             0\n",
       "rooms            0\n",
       "bathroom         0\n",
       "parking          0\n",
       "floor            0\n",
       "petFriendly      0\n",
       "furnished        0\n",
       "hoa              0\n",
       "rent             0\n",
       "tax              0\n",
       "fireInsurance    0\n",
       "total            0\n",
       "dtype: int64"
      ]
     },
     "execution_count": 6,
     "metadata": {},
     "output_type": "execute_result"
    }
   ],
   "source": [
    "df.isnull().sum()"
   ]
  },
  {
   "cell_type": "code",
   "execution_count": 7,
   "metadata": {},
   "outputs": [],
   "source": [
    "def make_metadata(df):\n",
    "    data = []\n",
    "    for feature in df.columns:\n",
    "        # Defining the role\n",
    "        if feature == 'target':\n",
    "            role = 'target'\n",
    "        elif feature == 'id':\n",
    "            role = 'id'\n",
    "        else:\n",
    "            role = 'input'\n",
    "\n",
    "            \n",
    "        # Defining the data type \n",
    "        dtype = df[feature].dtype\n",
    "\n",
    "        uniqueCnt = df[feature].nunique()\n",
    "        \n",
    "        # Defining the type\n",
    "        if 'bin' in feature or feature == 'target':\n",
    "            type = 'binary'\n",
    "        elif 'cat' in feature or feature == 'id':\n",
    "            type = 'categorical'\n",
    "        elif (df[feature].dtype == 'float32') | (df[feature].dtype == 'float64'):\n",
    "            type = 'numeric'\n",
    "        elif (df[feature].dtype == 'int32') | (df[feature].dtype == 'int64'):\n",
    "            type = 'ordinal'\n",
    "        elif (df[feature].dtype == 'object'):\n",
    "            type = 'categorical'\n",
    "\n",
    "        if (uniqueCnt == 2 and type == 'ordinal'):\n",
    "            type = 'binary'\n",
    "\n",
    "\n",
    "        # Creating a dictionary for adding a row to metadata:\n",
    "        feature_dictionary = {\n",
    "            'varname': feature,\n",
    "            'role': role,\n",
    "            'type': type,\n",
    "            'dtype': dtype,\n",
    "            'uniqueCnt': uniqueCnt\n",
    "        }\n",
    "        data.append(feature_dictionary)\n",
    "\n",
    "    metadata = pd.DataFrame(data, columns=['varname', 'role', 'type', 'dtype', 'uniqueCnt'])\n",
    "    metadata.set_index('varname', inplace=True)\n",
    "    return metadata\n",
    "\n",
    "\n",
    "def make_typedf(df, metadata, typeName):\n",
    "    cols = metadata[metadata['type']==typeName].index.tolist()\n",
    "    if 'id' in cols:\n",
    "        cols.remove('id')\n",
    "    \n",
    "    cnt = len(cols)\n",
    "    \n",
    "    res_df = pd.DataFrame(columns={'feature', 'uniqueCnt'})\n",
    "    res_df['feature'] = cols\n",
    "\n",
    "    for col in cols:\n",
    "        res_df.loc[res_df['feature']==col,'uniqueCnt'] = df[col].nunique()\n",
    "\n",
    "    # To set order of columns in dataframe:\n",
    "    res_df = res_df[['feature', 'uniqueCnt']]\n",
    "    return cols, cnt, res_df"
   ]
  },
  {
   "cell_type": "code",
   "execution_count": 8,
   "metadata": {
    "scrolled": false
   },
   "outputs": [
    {
     "data": {
      "text/html": [
       "<div>\n",
       "<style scoped>\n",
       "    .dataframe tbody tr th:only-of-type {\n",
       "        vertical-align: middle;\n",
       "    }\n",
       "\n",
       "    .dataframe tbody tr th {\n",
       "        vertical-align: top;\n",
       "    }\n",
       "\n",
       "    .dataframe thead th {\n",
       "        text-align: right;\n",
       "    }\n",
       "</style>\n",
       "<table border=\"1\" class=\"dataframe\">\n",
       "  <thead>\n",
       "    <tr style=\"text-align: right;\">\n",
       "      <th></th>\n",
       "      <th>role</th>\n",
       "      <th>type</th>\n",
       "      <th>dtype</th>\n",
       "      <th>uniqueCnt</th>\n",
       "    </tr>\n",
       "    <tr>\n",
       "      <th>varname</th>\n",
       "      <th></th>\n",
       "      <th></th>\n",
       "      <th></th>\n",
       "      <th></th>\n",
       "    </tr>\n",
       "  </thead>\n",
       "  <tbody>\n",
       "    <tr>\n",
       "      <th>city</th>\n",
       "      <td>input</td>\n",
       "      <td>categorical</td>\n",
       "      <td>object</td>\n",
       "      <td>5</td>\n",
       "    </tr>\n",
       "    <tr>\n",
       "      <th>area</th>\n",
       "      <td>input</td>\n",
       "      <td>ordinal</td>\n",
       "      <td>int64</td>\n",
       "      <td>517</td>\n",
       "    </tr>\n",
       "    <tr>\n",
       "      <th>rooms</th>\n",
       "      <td>input</td>\n",
       "      <td>ordinal</td>\n",
       "      <td>int64</td>\n",
       "      <td>11</td>\n",
       "    </tr>\n",
       "    <tr>\n",
       "      <th>bathroom</th>\n",
       "      <td>input</td>\n",
       "      <td>ordinal</td>\n",
       "      <td>int64</td>\n",
       "      <td>10</td>\n",
       "    </tr>\n",
       "    <tr>\n",
       "      <th>parking</th>\n",
       "      <td>input</td>\n",
       "      <td>ordinal</td>\n",
       "      <td>int64</td>\n",
       "      <td>11</td>\n",
       "    </tr>\n",
       "    <tr>\n",
       "      <th>floor</th>\n",
       "      <td>input</td>\n",
       "      <td>categorical</td>\n",
       "      <td>object</td>\n",
       "      <td>35</td>\n",
       "    </tr>\n",
       "    <tr>\n",
       "      <th>petFriendly</th>\n",
       "      <td>input</td>\n",
       "      <td>categorical</td>\n",
       "      <td>object</td>\n",
       "      <td>2</td>\n",
       "    </tr>\n",
       "    <tr>\n",
       "      <th>furnished</th>\n",
       "      <td>input</td>\n",
       "      <td>categorical</td>\n",
       "      <td>object</td>\n",
       "      <td>2</td>\n",
       "    </tr>\n",
       "    <tr>\n",
       "      <th>hoa</th>\n",
       "      <td>input</td>\n",
       "      <td>ordinal</td>\n",
       "      <td>int64</td>\n",
       "      <td>1679</td>\n",
       "    </tr>\n",
       "    <tr>\n",
       "      <th>rent</th>\n",
       "      <td>input</td>\n",
       "      <td>ordinal</td>\n",
       "      <td>int64</td>\n",
       "      <td>1195</td>\n",
       "    </tr>\n",
       "    <tr>\n",
       "      <th>tax</th>\n",
       "      <td>input</td>\n",
       "      <td>ordinal</td>\n",
       "      <td>int64</td>\n",
       "      <td>1243</td>\n",
       "    </tr>\n",
       "    <tr>\n",
       "      <th>fireInsurance</th>\n",
       "      <td>input</td>\n",
       "      <td>ordinal</td>\n",
       "      <td>int64</td>\n",
       "      <td>216</td>\n",
       "    </tr>\n",
       "    <tr>\n",
       "      <th>total</th>\n",
       "      <td>input</td>\n",
       "      <td>ordinal</td>\n",
       "      <td>int64</td>\n",
       "      <td>5751</td>\n",
       "    </tr>\n",
       "  </tbody>\n",
       "</table>\n",
       "</div>"
      ],
      "text/plain": [
       "                role         type   dtype  uniqueCnt\n",
       "varname                                             \n",
       "city           input  categorical  object          5\n",
       "area           input      ordinal   int64        517\n",
       "rooms          input      ordinal   int64         11\n",
       "bathroom       input      ordinal   int64         10\n",
       "parking        input      ordinal   int64         11\n",
       "floor          input  categorical  object         35\n",
       "petFriendly    input  categorical  object          2\n",
       "furnished      input  categorical  object          2\n",
       "hoa            input      ordinal   int64       1679\n",
       "rent           input      ordinal   int64       1195\n",
       "tax            input      ordinal   int64       1243\n",
       "fireInsurance  input      ordinal   int64        216\n",
       "total          input      ordinal   int64       5751"
      ]
     },
     "execution_count": 8,
     "metadata": {},
     "output_type": "execute_result"
    }
   ],
   "source": [
    "metadata = make_metadata(df)\n",
    "\n",
    "catFeatures, catCnt, cat_df = make_typedf(df, metadata, 'categorical')\n",
    "ordFeatures, ordCnt, ord_df = make_typedf(df, metadata, 'ordinal')\n",
    "numFeatures, numCnt, num_df = make_typedf(df, metadata, 'numeric')\n",
    "binFeatures, binCnt, bin_df = make_typedf(df, metadata, 'binary')\n",
    "\n",
    "metadata"
   ]
  },
  {
   "cell_type": "code",
   "execution_count": 9,
   "metadata": {},
   "outputs": [],
   "source": [
    "def find_nonNumerical_percent(df, col):\n",
    "    \"\"\"\n",
    "    This function checks numerical status of a given column. In fact, it checks if the columns are 100% numerical\n",
    "    or thay have non-digit as well.\n",
    "    Input: df: a dataframe, \n",
    "           col: a name of a column.\n",
    "    output: index of non-numerical rows.\n",
    "    \"\"\"\n",
    "    if(df[col].dtype == 'O'):\n",
    "        print('rexxx')\n",
    "        check_df = df[col].apply(lambda x: x.isnumeric())\n",
    "    else:\n",
    "        print('alii')\n",
    "        check_df = df[col].apply(lambda x: str(x).isnumeric())\n",
    "    \n",
    "    strIndex = check_df.loc[check_df == False].index\n",
    "    \n",
    "    if(len(strIndex>0)):\n",
    "        print('{:0.2f}% of the \"{}\" column is not numerical.'.format(len(strIndex)*100/df.shape[0], col))\n",
    "        print('The distribution is as follow:')\n",
    "        print(df.loc[strIndex, col].value_counts())\n",
    "        print('********************************************************')\n",
    "    else:\n",
    "        print('The \"{}\" column is verified; 100% numerical'.format(col))\n",
    "    return strIndex"
   ]
  },
  {
   "cell_type": "markdown",
   "metadata": {},
   "source": [
    "**5) Preparation of numerical columns:**\n",
    "- Converting string data into numeric,\n",
    "- Check if there is some non-numerical data within numerical columns,"
   ]
  },
  {
   "cell_type": "code",
   "execution_count": 10,
   "metadata": {},
   "outputs": [],
   "source": [
    "def check_numericalStatus(df, cols):\n",
    "    \"\"\"\n",
    "    This function checks if columns passed to the function are numerical or not. \n",
    "    If there are some non numerical columns, it will return those columns.\n",
    "    Input: df: a dataframe, \n",
    "           cols: a list of columns for being checked.\n",
    "    output: a list of non-numerical columns\n",
    "    \"\"\"\n",
    "    \n",
    "    resType = [df[col].dtype for col in cols]\n",
    "    res = [col for i,col in enumerate(cols) if resType[i] == 'O']\n",
    "    if(len(res)>0):\n",
    "        print('Notice!!!\\n')\n",
    "        print('The following columns are not pure numerical. They have some non-numericla entry.')\n",
    "        print(res)\n",
    "    else:\n",
    "        print('Dataframe is verified!')\n",
    "        print('All columns are pure numerical.')\n",
    "    return res"
   ]
  },
  {
   "cell_type": "code",
   "execution_count": 11,
   "metadata": {},
   "outputs": [],
   "source": [
    "def convert_to_numeric(df, cols, distributionFlag=False):\n",
    "    \"\"\"\n",
    "    This function will convert passed columns into numerical.\n",
    "    Finally, if there are some columns which are remained in form of object datatype, it will return them.\n",
    "    Input: df: a dataframe, \n",
    "           cols: a list of columns to convert.\n",
    "           distributionFlag: a flag which indicates to show the distribution of non-numerical columns or not. Default value is False.\n",
    "    output: df: converted dataframe to numeric (if applicable),\n",
    "            catCols: list of non-numerical columns,\n",
    "            res_df: a dataframe including only non-numerical content\n",
    "            indexLst: a 2d list includes index of non-numerical content\n",
    "    \"\"\"\n",
    "    for col in cols:\n",
    "        df[col] = pd.to_numeric(df[col], errors='ignore')\n",
    "\n",
    "    \n",
    "    resType = [df[col].dtype for col in cols]\n",
    "    catCols = [col for i,col in enumerate(cols) if resType[i] == 'O']# We will save features having nonnumerical data.\n",
    "    res_df = pd.DataFrame()\n",
    "    indexLst = []# We will save index of data which are not numerical in indexLst.\n",
    "\n",
    "\n",
    "    if(len(catCols)==0):\n",
    "        print('All columns are verified; 100% numerical')\n",
    "        return df, catCols, res_df, indexLst\n",
    "    \n",
    "    elif(len(catCols)>0): \n",
    "        print('Notice!!!\\n')\n",
    "        print('The following columns are not pure numerical. They have some non-numericla data.')\n",
    "        print(catCols)\n",
    "        # We keep the info in colLst and rowLst for printing in dataframe.\n",
    "        colLst = ['Feature', 'NonNumerical %']\n",
    "        rowLst = []\n",
    "    \n",
    "        for col in catCols:\n",
    "            if(df[col].dtype == 'O'):\n",
    "                check_status = df[col].apply(lambda x: x.isnumeric())\n",
    "            else:\n",
    "                check_status = df[col].apply(lambda x: str(x).isnumeric())\n",
    "            \n",
    "            catIndex = check_status.loc[check_status == False].index\n",
    "            if(len(catIndex>0)):\n",
    "                indexLst.append(catIndex)\n",
    "                nonNumericalValue = round(len(catIndex)*100/df.shape[0], 2)\n",
    "                valueLst = [col, nonNumericalValue]\n",
    "                dic1 = {k:v for k,v in zip(colLst, valueLst)}\n",
    "                rowLst.append(dic1)# Will save nonnumerical data for adding into dataframe\n",
    "                \n",
    "                if(distributionFlag == True):\n",
    "                    print('The distribution of nonnumerical data of \"{}\" is as follow:'.format(col))\n",
    "                    print(df.loc[catIndex, col].value_counts())\n",
    "                    print('********************************************************')\n",
    "        \n",
    "        res_df = pd.DataFrame(rowLst, columns = colLst)\n",
    "    return df, catCols, res_df, indexLst\n",
    "\n",
    "def print_nonNumericalContent(df, nonNumCols, nonNumIndexLst):\n",
    "    \"\"\"\n",
    "    This function will print the content of non-numerical content of the passed columns.\n",
    "    Input: df: a dataframe, \n",
    "           nonNumCols: a list of columns which are non-numerical.\n",
    "           nonNumIndexLst: is a 2d list which includes the index of non-numerical row.\n",
    "    output: There is no variable for return. It only print non-numerical content  \n",
    "    \"\"\"\n",
    "    for i, col in enumerate(nonNumCols):\n",
    "        print('Feature of \"{}\":'.format(col))\n",
    "        print(df.loc[nonNumIndexLst[i], col].value_counts())\n",
    "        print('*******************************************************')\n",
    "    return"
   ]
  },
  {
   "cell_type": "code",
   "execution_count": 12,
   "metadata": {
    "scrolled": true
   },
   "outputs": [
    {
     "name": "stdout",
     "output_type": "stream",
     "text": [
      "Dataframe is verified!\n",
      "All columns are pure numerical.\n"
     ]
    },
    {
     "data": {
      "text/plain": [
       "[]"
      ]
     },
     "execution_count": 12,
     "metadata": {},
     "output_type": "execute_result"
    }
   ],
   "source": [
    "check_numericalStatus(df, ordFeatures)"
   ]
  },
  {
   "cell_type": "code",
   "execution_count": 13,
   "metadata": {
    "scrolled": false
   },
   "outputs": [
    {
     "data": {
      "text/plain": [
       "['city', 'floor', 'petFriendly', 'furnished']"
      ]
     },
     "execution_count": 13,
     "metadata": {},
     "output_type": "execute_result"
    }
   ],
   "source": [
    "catFeatures"
   ]
  },
  {
   "cell_type": "markdown",
   "metadata": {},
   "source": [
    "**5) Modifying of Floor Feature:**\n",
    "- It is considered categorical.\n",
    "- We have to modify it."
   ]
  },
  {
   "cell_type": "code",
   "execution_count": 14,
   "metadata": {},
   "outputs": [
    {
     "name": "stdout",
     "output_type": "stream",
     "text": [
      "rexxx\n",
      "23.02% of the \"floor\" column is not numerical.\n",
      "The distribution is as follow:\n",
      "-    2461\n",
      "Name: floor, dtype: int64\n",
      "********************************************************\n"
     ]
    }
   ],
   "source": [
    "non_num_index = find_nonNumerical_percent(df, 'floor');"
   ]
  },
  {
   "cell_type": "code",
   "execution_count": 15,
   "metadata": {
    "scrolled": false
   },
   "outputs": [
    {
     "data": {
      "text/html": [
       "<div>\n",
       "<style scoped>\n",
       "    .dataframe tbody tr th:only-of-type {\n",
       "        vertical-align: middle;\n",
       "    }\n",
       "\n",
       "    .dataframe tbody tr th {\n",
       "        vertical-align: top;\n",
       "    }\n",
       "\n",
       "    .dataframe thead th {\n",
       "        text-align: right;\n",
       "    }\n",
       "</style>\n",
       "<table border=\"1\" class=\"dataframe\">\n",
       "  <thead>\n",
       "    <tr style=\"text-align: right;\">\n",
       "      <th></th>\n",
       "      <th>city</th>\n",
       "      <th>area</th>\n",
       "      <th>rooms</th>\n",
       "      <th>bathroom</th>\n",
       "      <th>parking</th>\n",
       "      <th>floor</th>\n",
       "      <th>petFriendly</th>\n",
       "      <th>furnished</th>\n",
       "      <th>hoa</th>\n",
       "      <th>rent</th>\n",
       "      <th>tax</th>\n",
       "      <th>fireInsurance</th>\n",
       "      <th>total</th>\n",
       "    </tr>\n",
       "  </thead>\n",
       "  <tbody>\n",
       "    <tr>\n",
       "      <th>5</th>\n",
       "      <td>São Paulo</td>\n",
       "      <td>376</td>\n",
       "      <td>3</td>\n",
       "      <td>3</td>\n",
       "      <td>7</td>\n",
       "      <td>-</td>\n",
       "      <td>acept</td>\n",
       "      <td>not furnished</td>\n",
       "      <td>0</td>\n",
       "      <td>8000</td>\n",
       "      <td>834</td>\n",
       "      <td>121</td>\n",
       "      <td>8955</td>\n",
       "    </tr>\n",
       "    <tr>\n",
       "      <th>15</th>\n",
       "      <td>Campinas</td>\n",
       "      <td>330</td>\n",
       "      <td>4</td>\n",
       "      <td>6</td>\n",
       "      <td>6</td>\n",
       "      <td>-</td>\n",
       "      <td>acept</td>\n",
       "      <td>furnished</td>\n",
       "      <td>680</td>\n",
       "      <td>8000</td>\n",
       "      <td>328</td>\n",
       "      <td>121</td>\n",
       "      <td>9129</td>\n",
       "    </tr>\n",
       "    <tr>\n",
       "      <th>19</th>\n",
       "      <td>São Paulo</td>\n",
       "      <td>600</td>\n",
       "      <td>4</td>\n",
       "      <td>5</td>\n",
       "      <td>6</td>\n",
       "      <td>-</td>\n",
       "      <td>acept</td>\n",
       "      <td>not furnished</td>\n",
       "      <td>0</td>\n",
       "      <td>12000</td>\n",
       "      <td>9500</td>\n",
       "      <td>181</td>\n",
       "      <td>21680</td>\n",
       "    </tr>\n",
       "  </tbody>\n",
       "</table>\n",
       "</div>"
      ],
      "text/plain": [
       "         city  area  rooms  bathroom  parking floor petFriendly  \\\n",
       "5   São Paulo   376      3         3        7     -       acept   \n",
       "15   Campinas   330      4         6        6     -       acept   \n",
       "19  São Paulo   600      4         5        6     -       acept   \n",
       "\n",
       "        furnished  hoa   rent   tax  fireInsurance  total  \n",
       "5   not furnished    0   8000   834            121   8955  \n",
       "15      furnished  680   8000   328            121   9129  \n",
       "19  not furnished    0  12000  9500            181  21680  "
      ]
     },
     "execution_count": 15,
     "metadata": {},
     "output_type": "execute_result"
    }
   ],
   "source": [
    "df.loc[non_num_index].head(3)"
   ]
  },
  {
   "cell_type": "code",
   "execution_count": 16,
   "metadata": {},
   "outputs": [
    {
     "data": {
      "text/plain": [
       "['São Paulo', 'Porto Alegre', 'Rio de Janeiro', 'Campinas', 'Belo Horizonte']"
      ]
     },
     "execution_count": 16,
     "metadata": {},
     "output_type": "execute_result"
    }
   ],
   "source": [
    "restIndex = ~df.index.isin(non_num_index)\n",
    "dfTest = df.loc[restIndex]\n",
    "cityLst = dfTest['city'].unique().tolist()\n",
    "cityLst"
   ]
  },
  {
   "cell_type": "markdown",
   "metadata": {},
   "source": [
    "**Imputing floor feature based on the most frequent data:**"
   ]
  },
  {
   "cell_type": "code",
   "execution_count": 17,
   "metadata": {
    "scrolled": true
   },
   "outputs": [
    {
     "data": {
      "text/plain": [
       "city\n",
       "Belo Horizonte    1\n",
       "Campinas          1\n",
       "Porto Alegre      2\n",
       "Rio de Janeiro    2\n",
       "São Paulo         1\n",
       "Name: floor, dtype: object"
      ]
     },
     "execution_count": 17,
     "metadata": {},
     "output_type": "execute_result"
    }
   ],
   "source": [
    "cityMode = dfTest.groupby('city')['floor'].agg(pd.Series.mode)\n",
    "cityMode"
   ]
  },
  {
   "cell_type": "markdown",
   "metadata": {},
   "source": [
    "### Before imputing:"
   ]
  },
  {
   "cell_type": "code",
   "execution_count": 18,
   "metadata": {
    "scrolled": true
   },
   "outputs": [
    {
     "data": {
      "text/plain": [
       "-    1614\n",
       "1     542\n",
       "2     350\n",
       "3     332\n",
       "5     307\n",
       "Name: floor, dtype: int64"
      ]
     },
     "execution_count": 18,
     "metadata": {},
     "output_type": "execute_result"
    }
   ],
   "source": [
    "df.loc[df['city']=='São Paulo', 'floor'].value_counts().head()"
   ]
  },
  {
   "cell_type": "markdown",
   "metadata": {},
   "source": [
    "### After imputing:"
   ]
  },
  {
   "cell_type": "code",
   "execution_count": 19,
   "metadata": {
    "scrolled": false
   },
   "outputs": [
    {
     "data": {
      "text/plain": [
       "1    2156\n",
       "2     350\n",
       "3     332\n",
       "5     307\n",
       "6     299\n",
       "Name: floor, dtype: int64"
      ]
     },
     "execution_count": 19,
     "metadata": {},
     "output_type": "execute_result"
    }
   ],
   "source": [
    "for cityName in cityLst:\n",
    "    df.loc[(df['city']==cityName) & (df['floor']=='-'), 'floor'] = str(cityMode[cityName])\n",
    "    \n",
    "df.loc[df['city']=='São Paulo', 'floor'].value_counts().head()"
   ]
  },
  {
   "cell_type": "code",
   "execution_count": 20,
   "metadata": {},
   "outputs": [],
   "source": [
    "df['floor'] = df['floor'].astype(int)"
   ]
  },
  {
   "cell_type": "markdown",
   "metadata": {},
   "source": [
    "**Updating MetaData:**"
   ]
  },
  {
   "cell_type": "code",
   "execution_count": 21,
   "metadata": {},
   "outputs": [
    {
     "data": {
      "text/plain": [
       "['city', 'petFriendly', 'furnished']"
      ]
     },
     "execution_count": 21,
     "metadata": {},
     "output_type": "execute_result"
    }
   ],
   "source": [
    "metadata = make_metadata(df)\n",
    "\n",
    "catFeatures, catCnt, cat_df = make_typedf(df, metadata, 'categorical')\n",
    "ordFeatures, ordCnt, ord_df = make_typedf(df, metadata, 'ordinal')\n",
    "numFeatures, numCnt, num_df = make_typedf(df, metadata, 'numeric')\n",
    "binFeatures, binCnt, bin_df = make_typedf(df, metadata, 'binary')\n",
    "\n",
    "# Let us take a look at cat features:\n",
    "catFeatures"
   ]
  },
  {
   "cell_type": "markdown",
   "metadata": {},
   "source": [
    "**Exporting dataset for future using:**"
   ]
  },
  {
   "cell_type": "code",
   "execution_count": 22,
   "metadata": {},
   "outputs": [],
   "source": [
    "df.to_csv(dataDirectory + \"\\\\rental_houses_Tohid.csv\", index=False)"
   ]
  }
 ],
 "metadata": {
  "kernelspec": {
   "display_name": "Python 3",
   "language": "python",
   "name": "python3"
  },
  "language_info": {
   "codemirror_mode": {
    "name": "ipython",
    "version": 3
   },
   "file_extension": ".py",
   "mimetype": "text/x-python",
   "name": "python",
   "nbconvert_exporter": "python",
   "pygments_lexer": "ipython3",
   "version": "3.7.7"
  }
 },
 "nbformat": 4,
 "nbformat_minor": 4
}
